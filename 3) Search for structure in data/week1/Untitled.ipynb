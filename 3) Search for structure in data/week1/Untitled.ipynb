{
 "cells": [
  {
   "cell_type": "code",
   "execution_count": 1,
   "id": "f4019157",
   "metadata": {},
   "outputs": [],
   "source": [
    "%matplotlib inline\n",
    "import pandas as pd\n",
    "import numpy as np\n",
    "import matplotlib.pyplot as plt\n",
    "\n"
   ]
  },
  {
   "cell_type": "code",
   "execution_count": 3,
   "id": "579d4c73",
   "metadata": {},
   "outputs": [
    {
     "name": "stdout",
     "output_type": "stream",
     "text": [
      "(396634, 5)\n"
     ]
    },
    {
     "data": {
      "text/html": [
       "<div>\n",
       "<style scoped>\n",
       "    .dataframe tbody tr th:only-of-type {\n",
       "        vertical-align: middle;\n",
       "    }\n",
       "\n",
       "    .dataframe tbody tr th {\n",
       "        vertical-align: top;\n",
       "    }\n",
       "\n",
       "    .dataframe thead th {\n",
       "        text-align: right;\n",
       "    }\n",
       "</style>\n",
       "<table border=\"1\" class=\"dataframe\">\n",
       "  <thead>\n",
       "    <tr style=\"text-align: right;\">\n",
       "      <th></th>\n",
       "      <th>user_id</th>\n",
       "      <th>venue_id</th>\n",
       "      <th>latitude</th>\n",
       "      <th>longitude</th>\n",
       "      <th>created_at</th>\n",
       "    </tr>\n",
       "    <tr>\n",
       "      <th>id</th>\n",
       "      <th></th>\n",
       "      <th></th>\n",
       "      <th></th>\n",
       "      <th></th>\n",
       "      <th></th>\n",
       "    </tr>\n",
       "  </thead>\n",
       "  <tbody>\n",
       "    <tr>\n",
       "      <th>984222</th>\n",
       "      <td>15824</td>\n",
       "      <td>5222</td>\n",
       "      <td>38.895112</td>\n",
       "      <td>-77.036366</td>\n",
       "      <td>2012-04-21 17:43:47</td>\n",
       "    </tr>\n",
       "    <tr>\n",
       "      <th>984234</th>\n",
       "      <td>44652</td>\n",
       "      <td>5222</td>\n",
       "      <td>33.800745</td>\n",
       "      <td>-84.410520</td>\n",
       "      <td>2012-04-21 17:43:43</td>\n",
       "    </tr>\n",
       "    <tr>\n",
       "      <th>984291</th>\n",
       "      <td>105054</td>\n",
       "      <td>5222</td>\n",
       "      <td>45.523452</td>\n",
       "      <td>-122.676207</td>\n",
       "      <td>2012-04-21 17:39:22</td>\n",
       "    </tr>\n",
       "    <tr>\n",
       "      <th>984318</th>\n",
       "      <td>2146539</td>\n",
       "      <td>5222</td>\n",
       "      <td>40.764462</td>\n",
       "      <td>-111.904565</td>\n",
       "      <td>2012-04-21 17:35:46</td>\n",
       "    </tr>\n",
       "    <tr>\n",
       "      <th>984232</th>\n",
       "      <td>93870</td>\n",
       "      <td>380645</td>\n",
       "      <td>33.448377</td>\n",
       "      <td>-112.074037</td>\n",
       "      <td>2012-04-21 17:38:18</td>\n",
       "    </tr>\n",
       "  </tbody>\n",
       "</table>\n",
       "</div>"
      ],
      "text/plain": [
       "        user_id  venue_id   latitude   longitude           created_at\n",
       "id                                                                   \n",
       "984222    15824      5222  38.895112  -77.036366  2012-04-21 17:43:47\n",
       "984234    44652      5222  33.800745  -84.410520  2012-04-21 17:43:43\n",
       "984291   105054      5222  45.523452 -122.676207  2012-04-21 17:39:22\n",
       "984318  2146539      5222  40.764462 -111.904565  2012-04-21 17:35:46\n",
       "984232    93870    380645  33.448377 -112.074037  2012-04-21 17:38:18"
      ]
     },
     "execution_count": 3,
     "metadata": {},
     "output_type": "execute_result"
    }
   ],
   "source": [
    "data = pd.read_csv('checkins.csv.gz', compression='gzip', index_col='id')\n",
    "print(data.shape)\n",
    "data.head()"
   ]
  },
  {
   "cell_type": "code",
   "execution_count": 4,
   "id": "9e4f83b2",
   "metadata": {},
   "outputs": [
    {
     "data": {
      "text/plain": [
       "MeanShift(bandwidth=0.1, n_jobs=-1)"
      ]
     },
     "execution_count": 4,
     "metadata": {},
     "output_type": "execute_result"
    }
   ],
   "source": [
    "from sklearn.cluster import MeanShift\n",
    "\n",
    "cluster = MeanShift(bandwidth=0.1, n_jobs=-1)\n",
    "cluster.fit(data[['latitude', 'longitude']].head(100000))"
   ]
  },
  {
   "cell_type": "code",
   "execution_count": 5,
   "id": "3f7d4d03",
   "metadata": {},
   "outputs": [],
   "source": [
    "from itertools import groupby\n",
    "from operator import itemgetter\n",
    "\n",
    "big_cluster_labels = [i for i, k in groupby(sorted(cluster.labels_)) if len(list(k)) > 15]"
   ]
  },
  {
   "cell_type": "code",
   "execution_count": 6,
   "id": "052716fa",
   "metadata": {},
   "outputs": [
    {
     "name": "stdout",
     "output_type": "stream",
     "text": [
      "40.71771639727507,-73.9918354198967\n",
      "33.44943805020126,-112.00213969017547\n",
      "33.44638027037988,-111.90188756212359\n",
      "41.87824377967115,-87.62984336226329\n",
      "37.68868157406161,-122.40933037359147\n",
      "38.8861652155993,-77.04878333074303\n",
      "33.357344562325096,-111.82265410760392\n",
      "33.76663623218336,-84.39328918481657\n",
      "42.363218639848895,-71.07368760857386\n",
      "47.60624471741767,-122.33204382627093\n",
      "36.117229142990276,-115.17107342280688\n",
      "34.06039755458241,-118.24870902659876\n",
      "44.97794782033687,-93.2673008852605\n",
      "30.26718361698159,-97.74311928133027\n",
      "40.76687624004169,-73.83335349045205\n",
      "39.735830152625304,-104.98658042770822\n",
      "39.95168037300773,-75.16273592391683\n",
      "34.03548695312116,-118.43899771946148\n",
      "32.98089338217789,-117.07811797821928\n",
      "32.80302053531547,-96.76989743494408\n"
     ]
    }
   ],
   "source": [
    "big_cluster_centers = [cluster.cluster_centers_[label] for label in big_cluster_labels]\n",
    "for c in big_cluster_centers[0:20]:\n",
    "    print(\"{},{}\".format(c[0], c[1]))"
   ]
  },
  {
   "cell_type": "code",
   "execution_count": 7,
   "id": "1bf67161",
   "metadata": {},
   "outputs": [],
   "source": [
    "\n",
    "offices = [\n",
    "    [33.751277, -118.188740],\n",
    "    [25.867736, -80.324116],\n",
    "    [51.503016, -0.075479],\n",
    "    [52.378894, 4.885084],\n",
    "    [39.366487, 117.036146],\n",
    "    [-33.868457, 151.205134]\n",
    "]"
   ]
  },
  {
   "cell_type": "code",
   "execution_count": 14,
   "id": "4a1d8b40",
   "metadata": {},
   "outputs": [
    {
     "name": "stdout",
     "output_type": "stream",
     "text": [
      "Requirement already satisfied: geopy in d:\\program files\\anaconda\\lib\\site-packages (2.2.0)\n",
      "Requirement already satisfied: geographiclib<2,>=1.49 in d:\\program files\\anaconda\\lib\\site-packages (from geopy) (1.52)\n"
     ]
    }
   ],
   "source": [
    "!pip install geopy\n",
    "from geopy.distance import geodesic\n",
    "\n",
    "def dist(a, b):\n",
    "    return geodesic(tuple(a), tuple(b)).meters\n"
   ]
  },
  {
   "cell_type": "code",
   "execution_count": 15,
   "id": "503a9f23",
   "metadata": {},
   "outputs": [],
   "source": [
    "\n",
    "distances = []\n",
    "\n",
    "for office in offices:\n",
    "    for center in big_cluster_centers:\n",
    "        pair = (dist(center, office), tuple(center))\n",
    "        distances.append(pair)\n",
    "\n",
    "distances = sorted(distances, key=lambda el: el[0], reverse=False)"
   ]
  },
  {
   "cell_type": "code",
   "execution_count": 16,
   "id": "05c14439",
   "metadata": {},
   "outputs": [
    {
     "data": {
      "text/plain": [
       "[(823.4439411475207, (52.37296399032261, 4.892317222580647)),\n",
       " (868.7548891010418, (-33.86063042857143, 151.20477592857145)),\n",
       " (2499.8389390054376, (25.8456722642857, -80.31889059642857)),\n",
       " (3475.8459533280306, (51.502991260887086, -0.12553728870967767)),\n",
       " (7473.232780812985, (33.8098779552631, -118.14892380690813)),\n",
       " (13989.508526127951, (25.7858124199675, -80.2179380368254)),\n",
       " (18446.96585832004, (25.705349721052592, -80.28342873815798)),\n",
       " (19965.42219350378, (33.8883253427586, -118.04892817172427)),\n",
       " (20083.481829807635, (26.010098249285683, -80.19999058571432)),\n",
       " (20972.6887195434, (33.87298601157018, -118.36209114655645)),\n",
       " (24618.591405677344, (33.97257482142858, -118.16837066666663)),\n",
       " (28509.664311609533, (33.81730643390889, -117.891249170958)),\n",
       " (30052.96080939686, (26.138843786842077, -80.33434683684207)),\n",
       " (30781.408060392812, (33.98393587403844, -118.00740497307689)),\n",
       " (31753.93518744772, (33.67430265976576, -117.85878926777275)),\n",
       " (32558.263282541993, (26.120862658633104, -80.1589066802157)),\n",
       " (34733.54660293984, (34.06039755458241, -118.24870902659876)),\n",
       " (37600.4788270859, (26.20058464102565, -80.25071612564099)),\n",
       " (39111.035882230295, (34.03548695312116, -118.43899771946148)),\n",
       " (41985.212447617334, (33.65089599288026, -117.75207397281613))]"
      ]
     },
     "execution_count": 16,
     "metadata": {},
     "output_type": "execute_result"
    }
   ],
   "source": [
    "distances[0:20]"
   ]
  },
  {
   "cell_type": "code",
   "execution_count": 17,
   "id": "a073f659",
   "metadata": {},
   "outputs": [
    {
     "name": "stdout",
     "output_type": "stream",
     "text": [
      "(52.37296399032261, 4.892317222580647)\n"
     ]
    }
   ],
   "source": [
    "# решение задания\n",
    "print(distances[0][1])"
   ]
  },
  {
   "cell_type": "code",
   "execution_count": null,
   "id": "89fa6172",
   "metadata": {},
   "outputs": [],
   "source": []
  }
 ],
 "metadata": {
  "kernelspec": {
   "display_name": "Python 3",
   "language": "python",
   "name": "python3"
  },
  "language_info": {
   "codemirror_mode": {
    "name": "ipython",
    "version": 3
   },
   "file_extension": ".py",
   "mimetype": "text/x-python",
   "name": "python",
   "nbconvert_exporter": "python",
   "pygments_lexer": "ipython3",
   "version": "3.8.8"
  }
 },
 "nbformat": 4,
 "nbformat_minor": 5
}
