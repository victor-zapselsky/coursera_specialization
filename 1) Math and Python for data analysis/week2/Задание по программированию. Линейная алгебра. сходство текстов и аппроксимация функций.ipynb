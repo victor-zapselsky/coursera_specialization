{
 "cells": [
  {
   "cell_type": "code",
   "execution_count": 14,
   "id": "a2050559",
   "metadata": {},
   "outputs": [
    {
     "name": "stdout",
     "output_type": "stream",
     "text": [
      "[[0. 0. 0. ... 0. 0. 0.]\n",
      " [0. 0. 0. ... 0. 0. 0.]\n",
      " [0. 0. 0. ... 0. 0. 0.]\n",
      " ...\n",
      " [0. 0. 0. ... 0. 0. 0.]\n",
      " [0. 0. 0. ... 0. 0. 0.]\n",
      " [0. 0. 0. ... 0. 0. 0.]]\n",
      "[[1. 1. 1. ... 0. 0. 0.]\n",
      " [0. 0. 1. ... 0. 0. 0.]\n",
      " [0. 0. 2. ... 0. 0. 0.]\n",
      " ...\n",
      " [0. 0. 0. ... 0. 0. 0.]\n",
      " [1. 0. 1. ... 0. 0. 0.]\n",
      " [0. 0. 1. ... 1. 1. 1.]]\n",
      "The 1st closest sentence is a sentence #6 with a cosine distance of 0.73.\n",
      "The 2nd closest sentence is a sentence #4 with a cosine distance of 0.78.\n"
     ]
    }
   ],
   "source": [
    "from numpy import zeros, dot, savetxt\n",
    "from numpy.linalg import norm\n",
    "import re\n",
    "\n",
    "\n",
    "def count_lines(txt_file):\n",
    "    n = 0\n",
    "    with open(txt_file, 'r') as file:\n",
    "        for line in file:\n",
    "            n += 1\n",
    "    return n\n",
    "\n",
    "\n",
    "def cosine_distance(u, v):\n",
    "    return 1.0 - (dot(u, v) / (norm(u) * norm(v)))\n",
    "\n",
    "\n",
    "if __name__ == '__main__':\n",
    "    input_file = 'sentence.txt'\n",
    "    lines = count_lines(input_file)\n",
    "    with open(input_file) as f:\n",
    "        lines = count_lines(input_file)\n",
    "        words = {}\n",
    "        lcount, wcount = 0, 0\n",
    "        for line in f:\n",
    "            p = re.compile(r\"[^a-z]+\")\n",
    "            tokens = p.split(line.lower())\n",
    "            tokens.pop()\n",
    "            for token in tokens:\n",
    "                if token not in words:\n",
    "                    words[token] = {\n",
    "                        \"index\": wcount,\n",
    "                        \"frequency\": [0] * lines\n",
    "                    }\n",
    "                    wcount += 1\n",
    "                elif words[token][\"frequency\"][lcount] != 0:\n",
    "                    continue\n",
    "                words[token][\"frequency\"][lcount] = tokens.count(token)\n",
    "            lcount += 1\n",
    "        matrix = zeros((lines, len(words)))\n",
    "        print(matrix)\n",
    "        for word in words:\n",
    "            i, j = 0, words[word][\"index\"]\n",
    "            for occ in words[word][\"frequency\"]:\n",
    "                matrix[i, j] = occ\n",
    "                i += 1\n",
    "        print(matrix)\n",
    "        distance = []\n",
    "        u = matrix[0,]\n",
    "        for i in range(1, lines):\n",
    "            v = matrix[i,]\n",
    "            distance.append({\"index\": i, \"distance\": cosine_distance(u, v)})\n",
    "        distance.sort(key=lambda x: x[\"distance\"])\n",
    "        print(\"The 1st closest sentence is a sentence #%d with a cosine distance of %.2f.\\n\" \\\n",
    "              \"The 2nd closest sentence is a sentence #%d with a cosine distance of %.2f.\" % (\n",
    "                  distance[0][\"index\"],\n",
    "                  distance[0][\"distance\"],\n",
    "                  distance[1][\"index\"],\n",
    "                  distance[1][\"distance\"]\n",
    "              ))\n",
    "f = open('submission1.txt','w')\n",
    "f.write('4 6')\n",
    "f.close()"
   ]
  },
  {
   "cell_type": "code",
   "execution_count": null,
   "id": "ed9c4c48",
   "metadata": {},
   "outputs": [],
   "source": []
  }
 ],
 "metadata": {
  "kernelspec": {
   "display_name": "Python 3",
   "language": "python",
   "name": "python3"
  },
  "language_info": {
   "codemirror_mode": {
    "name": "ipython",
    "version": 3
   },
   "file_extension": ".py",
   "mimetype": "text/x-python",
   "name": "python",
   "nbconvert_exporter": "python",
   "pygments_lexer": "ipython3",
   "version": "3.8.8"
  }
 },
 "nbformat": 4,
 "nbformat_minor": 5
}
