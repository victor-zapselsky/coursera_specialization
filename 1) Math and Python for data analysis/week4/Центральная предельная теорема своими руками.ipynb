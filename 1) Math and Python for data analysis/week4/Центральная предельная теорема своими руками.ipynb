{
 "cells": [
  {
   "cell_type": "code",
   "execution_count": 1,
   "id": "46ef0609",
   "metadata": {},
   "outputs": [],
   "source": [
    "import pandas as pd\n",
    "import numpy as np\n",
    "import matplotlib.pyplot as plt\n",
    "import scipy.stats as sts\n",
    "%matplotlib inline\n",
    "import math\n",
    "import pylab\n",
    "import random"
   ]
  },
  {
   "cell_type": "markdown",
   "id": "53dbb83d",
   "metadata": {},
   "source": [
    "# 02 Функции для проведения исследования\n"
   ]
  },
  {
   "cell_type": "code",
   "execution_count": 2,
   "id": "f7075a03",
   "metadata": {},
   "outputs": [],
   "source": [
    "# Напишем функцию для определения ТЕОРИТИЧЕСКОЙ плотности экспоненциального распределения случайной величины, \n",
    "# с входными параметрами:\n",
    "    # l (lambda) - параметр распределения сл.вел. (0,0125)\n",
    "    # x - значение из диапазона \"иксовых значений\" (используем длину масива выборочных значений, то есть 1000 значений)\n",
    "def eps_pdf(l, x):\n",
    "    return (l * math.exp(-l * x))\n",
    "\n",
    "\n",
    "# напишем функцию формирования выборки из 1000 случайных значений с входными параметрами:\n",
    "    # value - количество случайных значений (у нас оно будет = 1000)\n",
    "    # l (lambda) - параметр распределения сл.вел. (0,0125)\n",
    "    # n - объем выборки (то есть количество раз выбора случайного числа)\n",
    "def sample_expon(value, l, n):\n",
    "    mu = 1/l\n",
    "    list_x = []\n",
    "    for i in range(value):\n",
    "        summa = 0\n",
    "        for j in range(n):\n",
    "            summa += mu**2*random.expovariate(mu)\n",
    "        list_x.append(summa/n)\n",
    "    return list_x\n",
    "\n",
    "# напишем функцию для формирования начальной таблицы \n",
    "def frame_start(l):\n",
    "    frame = pd.DataFrame({\n",
    "        'Распределение':'Исходное',\n",
    "        'Мат. ожидание':1/l, \n",
    "        'Дисперсия':(math.sqrt(1/l**2))**2, \n",
    "        'Стандарт. откл-е':math.sqrt(1/l**2),\n",
    "        'Мат. ожидание (откл-е)':'NaN',\n",
    "        'Мат. ожидание (откл-е, %)':'NaN',\n",
    "        'Дисперсия (откл-е)':'NaN',\n",
    "        'Дисперсия (откл-е, %)':'NaN',\n",
    "        'Стандарт. откл-е (откл-е)':'NaN',\n",
    "        'Стандарт. откл-е (откл-е, %)':'NaN'\n",
    "    }, index = [0])\n",
    "    return frame\n",
    "\n",
    "# напишем функцию для дополнения таблицы новой строкой I\n",
    "def frame_conte(n, list_x):\n",
    "    new_line = {\n",
    "                'Распределение':'Выборочное',\n",
    "                'Объем выборки':n, \n",
    "                'Мат. ожидание':round(np.mean(list_x),3),\n",
    "                'Дисперсия':round(np.var(list_x),3),\n",
    "                'Стандарт. откл-е':round(np.std(list_x),3)}\n",
    "    return new_line\n",
    "\n",
    "# напишем функцию для заполнения расчетных показателей первого порядка таблицы строки I\n",
    "def frame_conte_dif_1(frame, n):\n",
    "    i = frame.index[-1]\n",
    "    frame['Мат. ожидание (откл-е)'].iloc[i] = (frame['Мат. ожидание'].iloc[i] - frame['Мат. ожидание'].iloc[0])\n",
    "    frame['Дисперсия (откл-е)'].iloc[i] = frame['Дисперсия'].iloc[i] - frame['Дисперсия'].iloc[0]/n\n",
    "    frame['Стандарт. откл-е (откл-е)'].iloc[i] = (\n",
    "        frame['Стандарт. откл-е'].iloc[i] - frame['Мат. ожидание'].iloc[0]/((frame['Объем выборки'].iloc[i])**0.5))\n",
    "\n",
    "# напишем функцию для заполнения расчетных показателей второго порядка таблицы строки I\n",
    "def frame_conte_dif_2(frame): \n",
    "    i = frame.index[-1]\n",
    "    frame['Мат. ожидание (откл-е, %)'].iloc[i] = round(100*(\n",
    "        frame['Мат. ожидание (откл-е)'].iloc[i] / frame['Мат. ожидание'].iloc[0]),3)\n",
    "    frame['Дисперсия (откл-е, %)'].iloc[i] = round(100*(\n",
    "        frame['Дисперсия (откл-е)'].iloc[i] / (frame['Дисперсия'].iloc[0]/frame['Объем выборки'].iloc[i])),3)\n",
    "    frame['Стандарт. откл-е (откл-е, %)'].iloc[i] = round(float(100*(\n",
    "        frame['Стандарт. откл-е (откл-е)'].iloc[i] / (\n",
    "            frame['Мат. ожидание'].iloc[0]/((frame['Объем выборки'].iloc[i])**0.5)))),3)\n",
    "    \n",
    "\n",
    "# напишем функцию для определения теоритической плотности соответствующего (выборке) нормального распределения\n",
    "def normal_pdf(x, mu, sigma):\n",
    "    sqrt_two_pi = math.sqrt(2 * math.pi)\n",
    "    return (math.exp(-(x-mu) ** 2 / 2 / sigma ** 2)/(sqrt_two_pi * sigma)) \n",
    "\n",
    "# формируем гистограмму выборки и график плотности соответствующего нормального распределения\n",
    "# развивая логику примера с прибором, который обычно работает без отказа 80 часов, по оси икс укажем удиницы измерения - часы\n",
    "def graph_sample_theory(list_x):\n",
    "#   гистограмма выборки\n",
    "    fig, axes = plt.subplots(figsize=(8,4), dpi=80)\n",
    "    plt.hist(list_x,bins = 'auto', color='purple',density = True)\n",
    "    plt.xlabel('Hours')\n",
    "    plt.ylabel('Value')\n",
    "\n",
    "#   график плотности\n",
    "    axes.set_xlim([0,150])\n",
    "    axes.set_ylim([0,0.12])\n",
    "    plt.plot(sorted(list_x),[normal_pdf(x, np.mean(list_x), np.std(list_x)) for x in sorted(list_x)], color='green', lw=4)\n",
    "    plt.xlabel('Hours')\n",
    "    plt.ylabel('Probability')\n",
    "    plt.show()"
   ]
  },
  {
   "cell_type": "markdown",
   "id": "8048b4de",
   "metadata": {},
   "source": [
    "# 03 Теоритическая плотность экпоненциального распределения¶\n",
    "Используем нашу самописную формулу и построим графическое отображение плотности распределения"
   ]
  },
  {
   "cell_type": "code",
   "execution_count": 3,
   "id": "90214621",
   "metadata": {},
   "outputs": [
    {
     "data": {
      "image/png": "[encoded data removed]",
      "text/plain": [
       "<Figure size 640x320 with 1 Axes>"
      ]
     },
     "metadata": {
      "needs_background": "light"
     },
     "output_type": "display_data"
    },
    {
     "name": "stdout",
     "output_type": "stream",
     "text": [
      "\u001b[1m\u001b[4mПараметры исходного экспоненционального распределения\u001b[0m\n",
      "   Мат. ожидание  Дисперсия  Стандарт. откл-е\n",
      "0           80.0     6400.0              80.0\n"
     ]
    }
   ],
   "source": [
    "# зададим параметр распределения\n",
    "l = 0.0125\n",
    "\n",
    "# сформируем диапазон \"иксовых\" и \"игрековых\" значений\n",
    "list_xt = range(600)\n",
    "list_yt = [eps_pdf(l, x = i) for i in list_xt]\n",
    "\n",
    "# сформируем график\n",
    "# развивая логику примера с прибором, который работает без отказа 80 часов, по оси икс укажем удиницы измерения - часы\n",
    "fig, axes = plt.subplots(figsize=(8,4), dpi=80)\n",
    "plt.plot(list_xt, list_yt, color='g', lw=4)\n",
    "plt.xlabel('Hours')\n",
    "plt.ylabel('Probability')\n",
    "plt.show()\n",
    "\n",
    "# создаем нулевую таблицу (или обновляем таблицу)\n",
    "frame = pd.DataFrame({'Create new frame':'yes'}, index = [0])\n",
    "\n",
    "# представим параметры распределения в виде таблицы\n",
    "print ('\\033[1m' + '\\033[4m' + \"Параметры исходного экспоненционального распределения\" + '\\033[0m')\n",
    "frame = frame_start(l)\n",
    "print( frame[['Мат. ожидание', 'Дисперсия', 'Стандарт. откл-е']])"
   ]
  },
  {
   "cell_type": "markdown",
   "id": "81f103af",
   "metadata": {},
   "source": [
    "# 04 Формирование 1000 выборочных независимых случайных величин\n",
    "В этом блоке мы сформируем выборку из 1000 значений, случайным образом отобранных из экспоненциального распределения"
   ]
  },
  {
   "cell_type": "code",
   "execution_count": 4,
   "id": "ab87f457",
   "metadata": {},
   "outputs": [
    {
     "data": {
      "image/png": "[encoded data removed]",
      "text/plain": [
       "<Figure size 640x320 with 1 Axes>"
      ]
     },
     "metadata": {
      "needs_background": "light"
     },
     "output_type": "display_data"
    },
    {
     "name": "stdout",
     "output_type": "stream",
     "text": [
      "\u001b[1m\u001b[4mПараметры первой выборки\u001b[0m\n",
      "   Мат. ожидание  Дисперсия  Стандарт. откл-е\n",
      "1         85.201   7647.619            87.451\n"
     ]
    },
    {
     "name": "stderr",
     "output_type": "stream",
     "text": [
      "D:\\Program Files\\Anaconda\\lib\\site-packages\\pandas\\core\\indexing.py:1637: SettingWithCopyWarning: \n",
      "A value is trying to be set on a copy of a slice from a DataFrame\n",
      "\n",
      "See the caveats in the documentation: https://pandas.pydata.org/pandas-docs/stable/user_guide/indexing.html#returning-a-view-versus-a-copy\n",
      "  self._setitem_single_block(indexer, value, name)\n"
     ]
    }
   ],
   "source": [
    "# зададим параметры выборки\n",
    "value = 1000\n",
    "n = 1\n",
    "\n",
    "# сформируем выборку\n",
    "list_x = sample_expon(value, l, n)\n",
    "  \n",
    "# формируем гистограмму выборки\n",
    "# развивая логику примера с прибором, который обычно работает без отказа 80 часов, по оси икс укажем удиницы измерения - часы\n",
    "fig, axes = plt.subplots(figsize=(8,4), dpi=80)\n",
    "axes.set_xlim([0,600])\n",
    "plt.hist(list_x,bins = 'auto', color='purple')\n",
    "plt.xlabel('Hours')\n",
    "plt.ylabel('Value')\n",
    "plt.show()\n",
    "\n",
    "# занесём ПЕРВИЧНЫЕ результаты (параметры) выборки в таблицу\n",
    "# определяемые параметры: ср.мат.ожидание, дисперсия, станд.отклонение\n",
    "\n",
    "for i in range(n):\n",
    "    frame = frame.append(frame_conte(n, list_x), ignore_index=True)\n",
    "    frame_conte_dif_1(frame, n)\n",
    "    frame_conte_dif_2(frame)\n",
    "print( '\\033[1m' + '\\033[4m' + 'Параметры первой выборки'  + '\\033[0m')\n",
    "\n",
    "print (frame.loc[[1],['Мат. ожидание', 'Дисперсия', 'Стандарт. откл-е']])"
   ]
  },
  {
   "cell_type": "markdown",
   "id": "71e80685",
   "metadata": {},
   "source": [
    "# 05 Сопоставление выборки и исходной совокупности\n",
    "Выборка случайной величины 1000 раз в соответствии с законом экспоненциального распределения достаточно хорошо характеризует теоретическую (исходную) совокупность. Что явно прослеживается на графиках"
   ]
  },
  {
   "cell_type": "code",
   "execution_count": 5,
   "id": "a30cc565",
   "metadata": {},
   "outputs": [
    {
     "data": {
      "image/png": "[encoded data removed]",
      "text/plain": [
       "<Figure size 640x320 with 1 Axes>"
      ]
     },
     "metadata": {
      "needs_background": "light"
     },
     "output_type": "display_data"
    },
    {
     "name": "stdout",
     "output_type": "stream",
     "text": [
      "  Распределение  Мат. ожидание  Дисперсия  Стандарт. откл-е\n",
      "0      Исходное         80.000   6400.000            80.000\n",
      "1    Выборочное         85.201   7647.619            87.451\n"
     ]
    }
   ],
   "source": [
    "\n",
    "fig, axes = plt.subplots(figsize=(8,4), dpi=80)\n",
    "plt.hist(list_x, bins = 'auto', color='purple', density = True, label='Sample')\n",
    "plt.xlabel('Mean')\n",
    "plt.ylabel('Value')\n",
    "\n",
    "axes.set_xlim([0,600])\n",
    "plt.plot(list_xt, list_yt, label='Theoretical density', color='g', linestyle='-', lw=4)\n",
    "plt.xlabel('Hours')\n",
    "plt.ylabel('Probability')\n",
    "plt.legend()\n",
    "plt.show()\n",
    "\n",
    "print (frame.loc[[0,1],['Распределение','Мат. ожидание', 'Дисперсия', 'Стандарт. откл-е']])"
   ]
  },
  {
   "cell_type": "markdown",
   "id": "02d5a6f9",
   "metadata": {},
   "source": [
    "# 06 Количество исследований\n",
    "Предусмотрим в работе возможность проводить испытания с заданным объемом выборки по несколько раз. По умолчанию испытания проводятся по 1 разу, но особо любознательные могут провести 2,3,4,5 или более раз"
   ]
  },
  {
   "cell_type": "code",
   "execution_count": 6,
   "id": "150690ab",
   "metadata": {},
   "outputs": [],
   "source": [
    "# укажем количество исследований\n",
    "w = 1"
   ]
  },
  {
   "cell_type": "markdown",
   "id": "2a6c0450",
   "metadata": {},
   "source": [
    "# 07 Объем выборок¶\n",
    "Определим объем выборок, то есть сколько раз каждое значение из тысячи выборочных будет определено для целей определения среднего арифметического и в последующем занесено в выборку"
   ]
  },
  {
   "cell_type": "code",
   "execution_count": 7,
   "id": "e67d30e5",
   "metadata": {},
   "outputs": [],
   "source": [
    "choice = (5,50,100,150,300,500)"
   ]
  },
  {
   "cell_type": "markdown",
   "id": "7efc452b",
   "metadata": {},
   "source": [
    "# 08 Выборки из экспоненциального распределения\n",
    "В этом блоке сформируем выборки из 1000 случайных значений, где каждое значение будет определено указанное выше количество раз (по умолчанию: 15, 50, 100, 150, 300, 500).\n",
    "\n",
    "Результаты представим в виде графиков-гистограмм и таблиц. Поверх каждого графика-гистограммы нарисуем график плотности соответствующего нормального распределения."
   ]
  },
  {
   "cell_type": "code",
   "execution_count": 11,
   "id": "334b0a70",
   "metadata": {},
   "outputs": [
    {
     "ename": "IndentationError",
     "evalue": "unexpected indent (<ipython-input-11-546e639885fc>, line 2)",
     "output_type": "error",
     "traceback": [
      "\u001b[1;36m  File \u001b[1;32m\"<ipython-input-11-546e639885fc>\"\u001b[1;36m, line \u001b[1;32m2\u001b[0m\n\u001b[1;33m    for i in range(w):\u001b[0m\n\u001b[1;37m    ^\u001b[0m\n\u001b[1;31mIndentationError\u001b[0m\u001b[1;31m:\u001b[0m unexpected indent\n"
     ]
    }
   ],
   "source": [
    "# for n in (choice):\n",
    "    for i in range(w):\n",
    "        list_x = sample_expon(value, l, n)\n",
    "        print( '\\033[4m' + 'Объем выборки:', '\\033[1m', n, '\\033[0m') \n",
    "        graph_sample_theory(list_x)\n",
    "        frame = frame.append(frame_conte(n, list_x), ignore_index=True)\n",
    "        frame_conte_dif_1(frame, n)\n",
    "        frame_conte_dif_2(frame)\n",
    "\n",
    "    \n",
    "print('\\033[1m' + '\\033[4m' + 'Параметры выборок объемом: ', choice, '\\033[0m')\n",
    "i = range(frame.index[-1]+1)\n",
    "i = i[2:]\n",
    "print (frame.loc[i,['Распределение','Объем выборки','Мат. ожидание', 'Дисперсия', 'Стандарт. откл-е']])"
   ]
  },
  {
   "cell_type": "markdown",
   "id": "2413fc1c",
   "metadata": {},
   "source": [
    "# Выводы\n",
    "\n",
    "Во-первых, выборочное среднее действительно, с увеличением выборки приближается к математическому ожиданию нормального распределения (т.е. к 80-ти), но при объеме выборки более $n &gt; 100$ эффект от объема не шибко впечатляет: выборочное среднее далеко не всегда приближается к теоретическому значению равному 80.\n",
    "\n",
    "Во-вторых, что касается параметров дисперсии и стандартного отклонения, так здесь вообще не видно никакой аппроксимации, то есть, вероятно мы (опять конечно же я) ошибочно полагали, что при увеличении выборки, отклонение выборочных параметров будет уменьшаться от расчетных теоретических. С другой стороны, на то оно и исследование, чтобы подтверждать или опровергать предположения.\n",
    "\n"
   ]
  },
  {
   "cell_type": "code",
   "execution_count": null,
   "id": "33f4b416",
   "metadata": {},
   "outputs": [],
   "source": []
  }
 ],
 "metadata": {
  "kernelspec": {
   "display_name": "Python 3",
   "language": "python",
   "name": "python3"
  },
  "language_info": {
   "codemirror_mode": {
    "name": "ipython",
    "version": 3
   },
   "file_extension": ".py",
   "mimetype": "text/x-python",
   "name": "python",
   "nbconvert_exporter": "python",
   "pygments_lexer": "ipython3",
   "version": "3.8.8"
  }
 },
 "nbformat": 4,
 "nbformat_minor": 5
}
